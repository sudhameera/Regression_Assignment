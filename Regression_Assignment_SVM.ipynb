{
 "cells": [
  {
   "cell_type": "code",
   "execution_count": 1,
   "id": "0059d264",
   "metadata": {},
   "outputs": [],
   "source": [
    "import pandas as pd"
   ]
  },
  {
   "cell_type": "code",
   "execution_count": 2,
   "id": "3322ed7f",
   "metadata": {},
   "outputs": [],
   "source": [
    "data=pd.read_csv(\"insurance_pre.csv\")"
   ]
  },
  {
   "cell_type": "code",
   "execution_count": 3,
   "id": "2c4f5275",
   "metadata": {},
   "outputs": [],
   "source": [
    "data=pd.get_dummies(data,drop_first=True)"
   ]
  },
  {
   "cell_type": "code",
   "execution_count": 4,
   "id": "66a9e9c0",
   "metadata": {},
   "outputs": [
    {
     "data": {
      "text/plain": [
       "Index(['age', 'bmi', 'children', 'charges', 'sex_male', 'smoker_yes'], dtype='object')"
      ]
     },
     "execution_count": 4,
     "metadata": {},
     "output_type": "execute_result"
    }
   ],
   "source": [
    "data.columns"
   ]
  },
  {
   "cell_type": "code",
   "execution_count": 8,
   "id": "fb9f28bf",
   "metadata": {},
   "outputs": [],
   "source": [
    "#assigning input values to variable \"independent\" \n",
    "independent=data[['age', 'bmi', 'children', 'sex_male', 'smoker_yes']]"
   ]
  },
  {
   "cell_type": "code",
   "execution_count": 9,
   "id": "383e2726",
   "metadata": {},
   "outputs": [],
   "source": [
    "#assigning output values to variable \"dependent\"\n",
    "dependent=data[['charges']]"
   ]
  },
  {
   "cell_type": "code",
   "execution_count": 10,
   "id": "31136c74",
   "metadata": {},
   "outputs": [],
   "source": [
    "#separating training and test data\n",
    "from sklearn.model_selection import train_test_split\n",
    "x_train,x_test,y_train,y_test=train_test_split(independent,dependent,test_size=0.30,random_state=0)"
   ]
  },
  {
   "cell_type": "code",
   "execution_count": 11,
   "id": "7fd750bd",
   "metadata": {},
   "outputs": [
    {
     "name": "stderr",
     "output_type": "stream",
     "text": [
      "C:\\Users\\venka\\anaconda3\\lib\\site-packages\\sklearn\\utils\\validation.py:993: DataConversionWarning: A column-vector y was passed when a 1d array was expected. Please change the shape of y to (n_samples, ), for example using ravel().\n",
      "  y = column_or_1d(y, warn=True)\n"
     ]
    },
    {
     "data": {
      "text/plain": [
       "SVR()"
      ]
     },
     "execution_count": 11,
     "metadata": {},
     "output_type": "execute_result"
    }
   ],
   "source": [
    "#train model with training data(input & output)\n",
    "from sklearn.svm import SVR\n",
    "regressor=SVR()\n",
    "regressor.fit(x_train,y_train)"
   ]
  },
  {
   "cell_type": "code",
   "execution_count": 12,
   "id": "d8902e9b",
   "metadata": {},
   "outputs": [],
   "source": [
    "#with the model predicting for test input data\n",
    "ypred=regressor.predict(x_test)\n"
   ]
  },
  {
   "cell_type": "code",
   "execution_count": 13,
   "id": "d2453961",
   "metadata": {},
   "outputs": [
    {
     "data": {
      "text/plain": [
       "-0.08842732776913875"
      ]
     },
     "execution_count": 13,
     "metadata": {},
     "output_type": "execute_result"
    }
   ],
   "source": [
    "#using rscore comparing with predicted and actual output\n",
    "from sklearn.metrics import r2_score\n",
    "rscore=r2_score(y_test,ypred)\n",
    "rscore"
   ]
  },
  {
   "cell_type": "code",
   "execution_count": null,
   "id": "606cea24",
   "metadata": {},
   "outputs": [],
   "source": [
    "#since the rscore value is low, we didn't save the model"
   ]
  }
 ],
 "metadata": {
  "kernelspec": {
   "display_name": "Python 3 (ipykernel)",
   "language": "python",
   "name": "python3"
  },
  "language_info": {
   "codemirror_mode": {
    "name": "ipython",
    "version": 3
   },
   "file_extension": ".py",
   "mimetype": "text/x-python",
   "name": "python",
   "nbconvert_exporter": "python",
   "pygments_lexer": "ipython3",
   "version": "3.9.13"
  }
 },
 "nbformat": 4,
 "nbformat_minor": 5
}
