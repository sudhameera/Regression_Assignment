{
 "cells": [
  {
   "cell_type": "code",
   "execution_count": 1,
   "id": "4302449d",
   "metadata": {},
   "outputs": [],
   "source": [
    "import pandas as pd"
   ]
  },
  {
   "cell_type": "code",
   "execution_count": 2,
   "id": "2a1b662b",
   "metadata": {},
   "outputs": [],
   "source": [
    "data=pd.read_csv(\"insurance_pre.csv\")"
   ]
  },
  {
   "cell_type": "code",
   "execution_count": 3,
   "id": "cd26c6fc",
   "metadata": {},
   "outputs": [],
   "source": [
    "data=pd.get_dummies(data,drop_first=True)"
   ]
  },
  {
   "cell_type": "code",
   "execution_count": 4,
   "id": "217e5f4c",
   "metadata": {},
   "outputs": [
    {
     "data": {
      "text/plain": [
       "Index(['age', 'bmi', 'children', 'charges', 'sex_male', 'smoker_yes'], dtype='object')"
      ]
     },
     "execution_count": 4,
     "metadata": {},
     "output_type": "execute_result"
    }
   ],
   "source": [
    "data.columns"
   ]
  },
  {
   "cell_type": "code",
   "execution_count": 5,
   "id": "18b52df4",
   "metadata": {},
   "outputs": [],
   "source": [
    "#assigning input values to variable \"independent\" \n",
    "independent=data[['age', 'bmi', 'children', 'sex_male', 'smoker_yes']]"
   ]
  },
  {
   "cell_type": "code",
   "execution_count": 6,
   "id": "d325970a",
   "metadata": {},
   "outputs": [],
   "source": [
    "#assigning output values to variable \"dependent\"\n",
    "dependent=data[['charges']]"
   ]
  },
  {
   "cell_type": "code",
   "execution_count": 229,
   "id": "9fad1605",
   "metadata": {},
   "outputs": [],
   "source": [
    "#separating training and test data\n",
    "from sklearn.model_selection import train_test_split\n",
    "x_train,x_test,y_train,y_test=train_test_split(independent,dependent,test_size=0.30,random_state=0)"
   ]
  },
  {
   "cell_type": "code",
   "execution_count": 386,
   "id": "3177778b",
   "metadata": {},
   "outputs": [
    {
     "name": "stderr",
     "output_type": "stream",
     "text": [
      "C:\\Users\\venka\\AppData\\Local\\Temp\\ipykernel_14236\\359159752.py:8: DataConversionWarning: A column-vector y was passed when a 1d array was expected. Please change the shape of y to (n_samples,), for example using ravel().\n",
      "  regressor.fit(x_train,y_train)\n"
     ]
    },
    {
     "data": {
      "text/plain": [
       "RandomForestRegressor(bootstrap='True', criterion='absolute_error',\n",
       "                      max_depth=25, max_features=5, min_samples_leaf=5,\n",
       "                      min_samples_split=12, n_estimators=40)"
      ]
     },
     "execution_count": 386,
     "metadata": {},
     "output_type": "execute_result"
    }
   ],
   "source": [
    "#train model with training data(input & output)\n",
    "from sklearn.ensemble import RandomForestRegressor\n",
    "regressor=RandomForestRegressor(criterion=\"absolute_error\",bootstrap=\"True\",\n",
    " max_depth= 25,\n",
    " max_features= 5,\n",
    " min_samples_leaf=5,\n",
    " min_samples_split=12,\n",
    " n_estimators= 40)\n",
    "regressor.fit(x_train,y_train)"
   ]
  },
  {
   "cell_type": "code",
   "execution_count": 387,
   "id": "f7dad6ba",
   "metadata": {},
   "outputs": [],
   "source": [
    "#with the model predicting for test input data\n",
    "ypred=regressor.predict(x_test)"
   ]
  },
  {
   "cell_type": "code",
   "execution_count": 388,
   "id": "77e70350",
   "metadata": {},
   "outputs": [
    {
     "data": {
      "text/plain": [
       "0.8912882721029872"
      ]
     },
     "execution_count": 388,
     "metadata": {},
     "output_type": "execute_result"
    }
   ],
   "source": [
    "#using rscore comparing with predicted and actual output\n",
    "from sklearn.metrics import r2_score\n",
    "rscore=r2_score(y_test,ypred)\n",
    "rscore"
   ]
  },
  {
   "cell_type": "code",
   "execution_count": 390,
   "id": "3f77854c",
   "metadata": {},
   "outputs": [],
   "source": [
    "#saving the model using pickle library and creating filename \n",
    "import pickle\n",
    "filename=\"final_model_regression\""
   ]
  },
  {
   "cell_type": "code",
   "execution_count": 391,
   "id": "728fdb29",
   "metadata": {},
   "outputs": [],
   "source": [
    "#with filename dumping the model\n",
    "pickle.dump(regressor,open(\"final_model_regression.sav\",\"wb\"))"
   ]
  },
  {
   "cell_type": "code",
   "execution_count": 392,
   "id": "372ba12b",
   "metadata": {},
   "outputs": [
    {
     "name": "stderr",
     "output_type": "stream",
     "text": [
      "C:\\Users\\venka\\anaconda3\\lib\\site-packages\\sklearn\\base.py:450: UserWarning: X does not have valid feature names, but RandomForestRegressor was fitted with feature names\n",
      "  warnings.warn(\n"
     ]
    },
    {
     "data": {
      "text/plain": [
       "array([29703.12207975])"
      ]
     },
     "execution_count": 392,
     "metadata": {},
     "output_type": "execute_result"
    }
   ],
   "source": [
    "#loading the model to check the result\n",
    "load=pickle.load(open(\"final_model_regression.sav\",\"rb\"))\n",
    "result=load.predict([[20,30,1,0,1]])\n",
    "result"
   ]
  },
  {
   "cell_type": "code",
   "execution_count": null,
   "id": "fc70850e",
   "metadata": {},
   "outputs": [],
   "source": []
  }
 ],
 "metadata": {
  "kernelspec": {
   "display_name": "Python 3 (ipykernel)",
   "language": "python",
   "name": "python3"
  },
  "language_info": {
   "codemirror_mode": {
    "name": "ipython",
    "version": 3
   },
   "file_extension": ".py",
   "mimetype": "text/x-python",
   "name": "python",
   "nbconvert_exporter": "python",
   "pygments_lexer": "ipython3",
   "version": "3.9.13"
  }
 },
 "nbformat": 4,
 "nbformat_minor": 5
}
